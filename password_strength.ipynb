{
  "nbformat": 4,
  "nbformat_minor": 0,
  "metadata": {
    "colab": {
      "provenance": [],
      "authorship_tag": "ABX9TyPPGjE/YmplilIaS97M87I+",
      "include_colab_link": true
    },
    "kernelspec": {
      "name": "python3",
      "display_name": "Python 3"
    },
    "language_info": {
      "name": "python"
    }
  },
  "cells": [
    {
      "cell_type": "markdown",
      "metadata": {
        "id": "view-in-github",
        "colab_type": "text"
      },
      "source": [
        "<a href=\"https://colab.research.google.com/github/Meena-27/PRODIGY_CS_03/blob/main/password_strength.ipynb\" target=\"_parent\"><img src=\"https://colab.research.google.com/assets/colab-badge.svg\" alt=\"Open In Colab\"/></a>"
      ]
    },
    {
      "cell_type": "code",
      "execution_count": 1,
      "metadata": {
        "colab": {
          "base_uri": "https://localhost:8080/"
        },
        "id": "KQ3j9shXj-0S",
        "outputId": "3992e940-b594-46dc-b5fb-0c7922b924d6"
      },
      "outputs": [
        {
          "output_type": "stream",
          "name": "stdout",
          "text": [
            "Enter your password: Meena@1\n",
            "Password strength: Moderate\n"
          ]
        }
      ],
      "source": [
        "import re  #importing regular expressions\n",
        "\n",
        "def assess_password_strength(password):\n",
        "    length = len(password)\n",
        "    has_uppercase = any(char.isupper() for char in password)\n",
        "    has_lowercase = any(char.islower() for char in password)\n",
        "    has_digit = any(char.isdigit() for char in password)\n",
        "    has_special = bool(re.match('[^A-Za-z0-9]', password))\n",
        "\n",
        "    # Assessing password strength based on criteria\n",
        "    score = 0\n",
        "    if length >= 8:\n",
        "        score += 1\n",
        "    if length >= 12:\n",
        "        score += 1\n",
        "    if has_uppercase:\n",
        "        score += 1\n",
        "    if has_lowercase:\n",
        "        score += 1\n",
        "    if has_digit:\n",
        "        score += 1\n",
        "    if has_special:\n",
        "        score += 1\n",
        "\n",
        "    # Providing feedback based on the score\n",
        "    if score <= 2:\n",
        "        return \"Weak\"\n",
        "    elif score <= 4:\n",
        "        return \"Moderate\"\n",
        "    elif score <= 6:\n",
        "        return \"Strong\"\n",
        "    else:\n",
        "        return \"Very Strong\"\n",
        "\n",
        "# Example usage\n",
        "password = input(\"Enter your password: \")\n",
        "strength = assess_password_strength(password)\n",
        "print(\"Password strength:\", strength)\n"
      ]
    }
  ]
}